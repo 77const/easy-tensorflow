{
 "cells": [
  {
   "cell_type": "markdown",
   "metadata": {},
   "source": [
    "## Introduction\n",
    "In the previous post, we read about the concepts of __Graph__ and __Session__ which describes the way the data flows in TensorFlow. In this tutorial, we'll take a look at the most commonly used DataTypes in TensorFlow and creating neural network models, namely ___Constant___, ___Variable___, and ___Placeholder___. This will also enable us to shed light on some of the points and questions left unanswered in the previous post.\n",
    "\n",
    "## 1. Constant "
   ]
  },
  {
   "cell_type": "code",
   "execution_count": null,
   "metadata": {},
   "outputs": [],
   "source": []
  },
  {
   "cell_type": "markdown",
   "metadata": {},
   "source": [
    "## CONSTANT\n",
    "__Constants__, as it speaks for itself, are used as constant value tensors.\n"
   ]
  },
  {
   "cell_type": "code",
   "execution_count": null,
   "metadata": {},
   "outputs": [],
   "source": [
    "# create graph\n",
    "a = tf.constant(2)\n",
    "b = tf.constant(3)\n",
    "c = a+b\n",
    "# launch the graph in a session\n",
    "with tf.Session() as sess:\n",
    "\tprint(sess.run(c))"
   ]
  },
  {
   "cell_type": "markdown",
   "metadata": {},
   "source": [
    "To change the value we need to use variables or placeholders.\n"
   ]
  },
  {
   "cell_type": "markdown",
   "metadata": {},
   "source": [
    "## VARIABLE\n",
    "Variables are tensors that we can change their value.\n",
    "\n",
    "BUT, what is the difference in execution then?\n",
    "\n",
    "\n",
    "Variables needs to be __initialized__. The first argument that we pass to the `tf.Variable()` function is the initil value.\n",
    "We have to invoke a __variable initializer operation__ and run the operation on the session.\n",
    "\n",
    "\n",
    "\n"
   ]
  },
  {
   "cell_type": "code",
   "execution_count": null,
   "metadata": {},
   "outputs": [],
   "source": [
    "# create graph\n",
    "a = tf.Variable(2)\n",
    "b = tf.Variable(3)\n",
    "c = a+b\n",
    "# add an Op to initialize global variables\n",
    "init_op = tf.global_variables_initializer()\n",
    "\n",
    "# launch the graph in a session\n",
    "with tf.Session() as sess:\n",
    "    # run the variable initializer\n",
    "    sess.run(init_op)\n",
    "    # now we can run our operations\n",
    "    print(sess.run(c))"
   ]
  },
  {
   "cell_type": "markdown",
   "metadata": {},
   "source": [
    "Variables are usually used for weights and biases.\n",
    "\n",
    "__weights__ are usually initialized from a normal distribution using `tf.random_normal()` or `tf.truncated_normal()`.\n",
    "\n",
    "__biases__ are usually initialized from zeros using `tf.zeros()` or `tf.zeros_like()`.\n",
    "\n",
    "\n"
   ]
  },
  {
   "cell_type": "code",
   "execution_count": null,
   "metadata": {},
   "outputs": [],
   "source": [
    "# create graph\n",
    "weights = tf.Variable(tf.truncated_normal(shape=[2,3], stddev=0.01))\n",
    "biases = tf.Variable(tf.zeros([3]))\n",
    "\n",
    "# add an Op to initialize global variables\n",
    "init_op = tf.global_variables_initializer()\n",
    "\n",
    "# launch the graph in a session\n",
    "with tf.Session() as sess:\n",
    "    # run the variable initializer\n",
    "    sess.run(init_op)\n",
    "    # now we can run our operations\n",
    "    W, b = sess.run([weights, biases])\n",
    "    print('weights = ', W)\n",
    "    print('biases = ', b)"
   ]
  },
  {
   "cell_type": "markdown",
   "metadata": {},
   "source": [
    "You might sometimes see that the variables are created with `tf.get_variable()` instead of `tf.Variable()`. The reason of using these two functions interchangebly relies on creating _name scopes_ and _variable scopes_. It is thoroughly explained in our [tensorboard tutorial]()."
   ]
  },
  {
   "cell_type": "code",
   "execution_count": null,
   "metadata": {},
   "outputs": [],
   "source": [
    "# create graph\n",
    "weights = tf.get_variable(name=\"W\", shape=[2,3], initializer=tf.truncated_normal_initializer(stddev=0.01))\n",
    "biases = tf.get_variable(name=\"b\", shape=[3], initializer=tf.zeros_initializer())\n",
    "\n",
    "# add an Op to initialize global variables\n",
    "init_op = tf.global_variables_initializer()\n",
    "\n",
    "# launch the graph in a session\n",
    "with tf.Session() as sess:\n",
    "    # run the variable initializer\n",
    "    sess.run(init_op)\n",
    "    # now we can run our operations\n",
    "    W, b = sess.run([weights, biases])\n",
    "    print('weights = ', W)\n",
    "    print('biases = ', b)"
   ]
  },
  {
   "cell_type": "markdown",
   "metadata": {},
   "source": [
    "## PLACEHOLDER:\n",
    "Placeholders are tensors that are placed to hold the data.\n",
    "We can build our graph without needing the data (because data is huge).\n",
    "In the time of need, we can feed the data in the right place (guess what place ?!!)\n",
    "\n",
    "BUT, Placeholders are just holding the place... where should we feed the input?\n",
    "\n",
    "In a dictionaty called __feed_dict__.\n",
    "\n",
    "\n",
    "\n"
   ]
  },
  {
   "cell_type": "code",
   "execution_count": null,
   "metadata": {},
   "outputs": [],
   "source": [
    "# create graph\n",
    "# create a placeholder of type float 32-bit, value is a vector of 3 elements\n",
    "a = tf.placeholder(tf.float32, shape=[3])\n",
    "# create a constant of type float 32-bit, value is a vector of 3 elements\n",
    "b = tf.constant([5, 5, 5], tf.float32)\n",
    "c = a+b\n",
    "\n",
    "# launch the graph in a session\n",
    "with tf.Session() as sess:\n",
    "    # create a feed_dict:\n",
    "    feed_dict={a: [1, 2, 3]}\n",
    "    # feed it to placeholder a via the dict \n",
    "    print(sess.run(c, feed_dict=feed_dict)) "
   ]
  },
  {
   "cell_type": "markdown",
   "metadata": {},
   "source": [
    "## Exercise:\n",
    "Now let's see a cool example. We will load an image and slice a part of the image and visualize it.\n",
    "\n",
    "We will load an image and try to slice it using the _slice_ method in tensorflow. Complete the code to run the session.\n",
    "Complete the code and \n"
   ]
  },
  {
   "cell_type": "code",
   "execution_count": null,
   "metadata": {},
   "outputs": [],
   "source": [
    "\n",
    "# load the image\n",
    "filename = 'flowers.jpg'\n",
    "raw_image_data = mpimg.imread(filename)\n",
    "\n",
    "# create a placeholder for the image\n",
    "image = tf.placeholder(dtype=\"uint8\", shape=[None, None, 3])\n",
    "# slice the image \n",
    "slice = tf.slice(image, begin=[1000, 0, 0], size=[200, 200, -1])\n",
    "\n",
    "# launch the graph in a session\n",
    "result = []\n",
    "with tf.Session() as session:\n",
    "    ######################## YOUR CODE HERE ##########################\n",
    "    # Hint: You should run the session and pass the op that you want # \n",
    "    # and the feed_dict and store the value in \"result\" variable.    #\n",
    "    #                                                                #\n",
    "    pass\n",
    "    #                                                                #\n",
    "    ##################################################################\n",
    "    \n",
    "plt.imshow(raw_image_data)\n",
    "plt.title('Original image')\n",
    "plt.show()\n",
    "\n",
    "plt.imshow(result)\n",
    "plt.title('Cropped image')\n",
    "plt.show()"
   ]
  }
 ],
 "metadata": {
  "kernelspec": {
   "display_name": "Python 2",
   "language": "python",
   "name": "python2"
  },
  "language_info": {
   "codemirror_mode": {
    "name": "ipython",
    "version": 2
   },
   "file_extension": ".py",
   "mimetype": "text/x-python",
   "name": "python",
   "nbconvert_exporter": "python",
   "pygments_lexer": "ipython2",
   "version": "2.7.14"
  }
 },
 "nbformat": 4,
 "nbformat_minor": 1
}
