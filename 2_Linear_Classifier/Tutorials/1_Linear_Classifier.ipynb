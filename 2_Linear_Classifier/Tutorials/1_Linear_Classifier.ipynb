{
 "cells": [
  {
   "cell_type": "markdown",
   "metadata": {},
   "source": [
    "# Linear Classifier (Logistic Regression)\n",
    "\n",
    "# 1. Introduction\n",
    "\n",
    "This tutorial covers the implementation of a simple linear model using TensorFlow. After loading the so-called MNIST data-set with images of hand-written digits, we define and optimize a simple mathematical model in TensorFlow. The structure of the network is presented in the following figure.\n",
    "\n",
    "<p align=\"center\">\n",
    "  <img width=\"400\" height=\"400\" src=\"https://github.com/easy-tensorflow/easy-tensorflow/blob/master/2_Linear_Classifier/Tutorials/files/linear_classifier.png\">\n",
    "</p>\n",
    "\n",
    "___Fig. 1-___ Sample Logistic Regression structure implemented for classifying MNIST digits \n",
    "\n",
    "You should be familiar with basic linear algebra. It also helps if you have a basic understanding of Machine Learning and classification. To specifically learn about the linear classifiers, read [this](https://cs231n.github.io/linear-classify/) article."
   ]
  },
  {
   "cell_type": "code",
   "execution_count": null,
   "metadata": {},
   "outputs": [],
   "source": []
  }
 ],
 "metadata": {
  "kernelspec": {
   "display_name": "Python 2",
   "language": "python",
   "name": "python2"
  },
  "language_info": {
   "codemirror_mode": {
    "name": "ipython",
    "version": 2
   },
   "file_extension": ".py",
   "mimetype": "text/x-python",
   "name": "python",
   "nbconvert_exporter": "python",
   "pygments_lexer": "ipython2",
   "version": "2.7.14"
  }
 },
 "nbformat": 4,
 "nbformat_minor": 1
}
