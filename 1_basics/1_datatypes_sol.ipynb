{
 "cells": [
  {
   "cell_type": "markdown",
   "metadata": {},
   "source": [
    "## Imports"
   ]
  },
  {
   "cell_type": "code",
   "execution_count": null,
   "metadata": {
    "collapsed": true
   },
   "outputs": [],
   "source": [
    "import tensorflow as tf\n",
    "import matplotlib.image as mpimg\n",
    "import matplotlib.pyplot as plt\n"
   ]
  },
  {
   "cell_type": "markdown",
   "metadata": {},
   "source": [
    "## CONSTANT\n",
    "__Constants__, as it speaks for itself, are used as constant value tensors.\n"
   ]
  },
  {
   "cell_type": "code",
   "execution_count": null,
   "metadata": {
    "collapsed": true
   },
   "outputs": [],
   "source": [
    "# create graph\n",
    "a = tf.constant(2)\n",
    "b = tf.constant(3)\n",
    "c = a+b\n",
    "# launch the graph in a session\n",
    "with tf.Session() as sess:\n",
    "\tprint(sess.run(c))"
   ]
  },
  {
   "cell_type": "markdown",
   "metadata": {},
   "source": [
    "To change the value we need to use variables or placeholders.\n"
   ]
  },
  {
   "cell_type": "markdown",
   "metadata": {},
   "source": [
    "## VARIABLE\n",
    "Variables are tensors that we can change their value.\n",
    "They are usually used for weights and biases.\n",
    "\n",
    "BUT, what is the difference in execution then?\n",
    "\n",
    "\n",
    "Variables needs to be __initialized__.\n",
    "We have to invoke a __variable initializer operation__ and run the operation on the session.\n",
    "\n",
    "\n",
    "\n"
   ]
  },
  {
   "cell_type": "code",
   "execution_count": null,
   "metadata": {
    "collapsed": true
   },
   "outputs": [],
   "source": [
    "# create graph\n",
    "a = tf.Variable(2)\n",
    "b = tf.Variable(3)\n",
    "c = a+b\n",
    "# add an Op to initialize global variables\n",
    "init_op = tf.global_variables_initializer()\n",
    "\n",
    "# launch the graph in a session\n",
    "with tf.Session() as sess:\n",
    "    # run the variable initializer\n",
    "    sess.run(init_op)\n",
    "    # now we can run our operations\n",
    "    print(sess.run(c))"
   ]
  },
  {
   "cell_type": "markdown",
   "metadata": {},
   "source": [
    "## PLACEHOLDER:\n",
    "Placeholders are tensors that are placed to hold the data.\n",
    "We can build our graph without needing the data (because data is huge).\n",
    "In the time of need, we can feed the data in the right place (guess what place ?!!)\n",
    "\n",
    "BUT, Placeholders are just holding the place... where should we feed the input?\n",
    "\n",
    "In a dictionaty called __feed_dict__.\n",
    "\n",
    "\n",
    "\n"
   ]
  },
  {
   "cell_type": "code",
   "execution_count": null,
   "metadata": {
    "collapsed": true
   },
   "outputs": [],
   "source": [
    "# create graph\n",
    "# create a placeholder of type float 32-bit, value is a vector of 3 elements\n",
    "a = tf.placeholder(tf.float32, shape=[3])\n",
    "# create a constant of type float 32-bit, value is a vector of 3 elements\n",
    "b = tf.constant([5, 5, 5], tf.float32)\n",
    "c = a+b\n",
    "\n",
    "# launch the graph in a session\n",
    "with tf.Session() as sess:\n",
    "    # create a feed_dict:\n",
    "    feed_dict={a: [1, 2, 3]}\n",
    "    # feed it to placeholder a via the dict \n",
    "    print(sess.run(c, feed_dict=feed_dict)) "
   ]
  },
  {
   "cell_type": "markdown",
   "metadata": {},
   "source": [
    "## Exercise:\n",
    "Now let's run a cool example. We will load an image and slice a part of the image and visualize it.\n",
    "\n",
    "We will load an image and try to slice it using the _slice_ method in tensorflow. Complete the code to run the session.\n",
    "Complete the code and \n"
   ]
  },
  {
   "cell_type": "code",
   "execution_count": null,
   "metadata": {
    "collapsed": true
   },
   "outputs": [],
   "source": [
    "# load the image\n",
    "filename = 'flowers.jpg'\n",
    "raw_image_data = mpimg.imread(filename)\n",
    "\n",
    "# create a placeholder for the image\n",
    "image = tf.placeholder(dtype=\"uint8\", shape=[None, None, 3])\n",
    "# slice the image \n",
    "slice = tf.slice(image, begin=[1000, 0, 0], size=[200, 200, -1])\n",
    "\n",
    "# launch the graph in a session\n",
    "result = []\n",
    "with tf.Session() as session:\n",
    "    ######################## YOUR CODE HERE ##########################\n",
    "    # Hint: You should run the session and pass the op that you want # \n",
    "    # and the feed_dict and store the value in \"result\" variable.    #\n",
    "    #                                                                #\n",
    "    result = session.run(slice, feed_dict={image: raw_image_data})\n",
    "    #                                                                #    \n",
    "    ##################################################################\n",
    "\n",
    "\n",
    "    result = session.run(slice, feed_dict={image: raw_image_data})\n",
    "\n",
    "plt.imshow(raw_image_data)\n",
    "plt.title('Original image')\n",
    "plt.show()\n",
    "\n",
    "plt.imshow(result)\n",
    "plt.title('Cropped image')\n",
    "plt.show()"
   ]
  }
 ],
 "metadata": {
  "kernelspec": {
   "display_name": "Python 2",
   "language": "python",
   "name": "python2"
  },
  "language_info": {
   "codemirror_mode": {
    "name": "ipython",
    "version": 3
   },
   "file_extension": ".py",
   "mimetype": "text/x-python",
   "name": "python",
   "nbconvert_exporter": "python",
   "pygments_lexer": "ipython3",
   "version": "3.5.3"
  }
 },
 "nbformat": 4,
 "nbformat_minor": 1
}
