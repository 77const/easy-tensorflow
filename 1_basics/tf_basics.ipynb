{
 "cells": [
  {
   "cell_type": "markdown",
   "metadata": {},
   "source": [
    "# GRAPH and SESSION\n",
    "\n"
   ]
  },
  {
   "cell_type": "markdown",
   "metadata": {},
   "source": [
    "## IMPORTS"
   ]
  },
  {
   "cell_type": "code",
   "execution_count": null,
   "metadata": {
    "collapsed": true
   },
   "outputs": [],
   "source": [
    "import tensorflow as tf\n",
    "import numpy as np\n",
    "import matplotlib.image as mpimg\n",
    "import matplotlib.pyplot as plt\n",
    "import os"
   ]
  },
  {
   "cell_type": "markdown",
   "metadata": {},
   "source": [
    "## GRAPH\n",
    "You can represent your dataflow of your computations in a __graph__.\n",
    "\n",
    "<img src=\"files/files/graph.gif\">\n",
    "\n",
    "Each __node__ in your graph is called __op__ (short for operation).\n",
    "\n",
    "An __op__ takes zero or more __Tensors__, performs some computation, and produces zero or more __Tensors__.\n",
    "\n",
    "__Tensor__ is a typed multi-dimensional array. For example, you can represent a mini-batch of images as a 4-D array of floating point numbers with dimensions [batch, height, width, channels].\n",
    "\n",
    "let's make a graph to do an aritmatic with tensorflow.\n",
    "we will create two constants. and we will add them...\n",
    "\n",
    "_c = a + b_\n",
    "\n",
    "\n"
   ]
  },
  {
   "cell_type": "code",
   "execution_count": null,
   "metadata": {
    "collapsed": true
   },
   "outputs": [],
   "source": [
    "# create constants\n",
    "a = tf.constant(2)\n",
    "b = tf.constant(3)\n",
    "\n",
    "# add two constants\n",
    "c = tf.add(a,b)\n",
    "print(a+b)\n",
    "print(c)"
   ]
  },
  {
   "cell_type": "markdown",
   "metadata": {},
   "source": [
    "## Session\n",
    "when we declare constants, variables, etc. they are tensors.\n",
    "that's why they call it tensorflow. The data that we declare flows in a graph.\n",
    "in order to execute the graph we have to run a __session__.\n",
    "To compute anything, a graph must be launched in a __Session__. A __Session__ places the __graph__ ops onto Devices, such as CPUs or GPUs, and provides methods to execute them.\n",
    "\n",
    "\n",
    "\n"
   ]
  },
  {
   "cell_type": "code",
   "execution_count": null,
   "metadata": {
    "collapsed": true
   },
   "outputs": [],
   "source": [
    "# launch the graph in a session\n",
    "with tf.Session() as sess:\n",
    "\tprint(sess.run(c))"
   ]
  },
  {
   "cell_type": "markdown",
   "metadata": {},
   "source": [
    "## CONSTANT\n",
    "we saw that we can delcared __constants__ and ran it...\n",
    "__Constants__, as it speaks for itself, are used as constant value tensors.\n",
    "To change the value we can use variables or placeholders.\n",
    "\n"
   ]
  },
  {
   "cell_type": "code",
   "execution_count": null,
   "metadata": {
    "collapsed": true
   },
   "outputs": [],
   "source": [
    "# create graph\n",
    "a = tf.constant(2)\n",
    "b = tf.constant(3)\n",
    "c = a+b\n",
    "# launch the graph in a session\n",
    "with tf.Session() as sess:\n",
    "\tprint(sess.run(c))"
   ]
  },
  {
   "cell_type": "markdown",
   "metadata": {},
   "source": [
    "## VARIABLE\n",
    "Variables are tensors that we can change their value.\n",
    "They are usually used for weights and biases.\n",
    "\n",
    "BUT, what is the difference in execution then?\n",
    "\n",
    "\n",
    "Variables needs to be __initialized__.\n",
    "We have to invoke a __variable initializer operation__ and run the operation on the session.\n",
    "\n",
    "\n",
    "\n"
   ]
  },
  {
   "cell_type": "code",
   "execution_count": null,
   "metadata": {
    "collapsed": true
   },
   "outputs": [],
   "source": [
    "# create graph\n",
    "a = tf.Variable(2)\n",
    "b = tf.Variable(3)\n",
    "c = a+b\n",
    "# add an Op to initialize global variables\n",
    "init_op = tf.global_variables_initializer()\n",
    "\n",
    "# launch the graph in a session\n",
    "with tf.Session() as sess:\n",
    "    # run the variable initializer\n",
    "    sess.run(init_op)\n",
    "    # now we can run our operations\n",
    "    print(sess.run(c))"
   ]
  },
  {
   "cell_type": "markdown",
   "metadata": {},
   "source": [
    "## PLACEHOLDER:\n",
    "Placeholders are tensors that are placed to hold the data.\n",
    "We can build our graph without needing the data (because data is huge).\n",
    "In the time of need, we can feed the data in the right place (guess what place ?!!)\n",
    "\n",
    "BUT, Placeholders are just holding the place... where should we feed the input?\n",
    "\n",
    "In a dictionaty called __feed_dict__.\n",
    "\n",
    "\n",
    "\n"
   ]
  },
  {
   "cell_type": "code",
   "execution_count": null,
   "metadata": {
    "collapsed": true
   },
   "outputs": [],
   "source": [
    "# create graph\n",
    "# create a placeholder of type float 32-bit, value is a vector of 3 elements\n",
    "a = tf.placeholder(tf.float32, shape=[3])\n",
    "# create a constant of type float 32-bit, value is a vector of 3 elements\n",
    "b = tf.constant([5, 5, 5], tf.float32)\n",
    "c = a+b\n",
    "\n",
    "# launch the graph in a session\n",
    "with tf.Session() as sess:\n",
    "    # create a feed_dict:\n",
    "    feed_dict={a: [1, 2, 3]}\n",
    "    # feed it to placeholder a via the dict \n",
    "    print(sess.run(c, feed_dict=feed_dict)) "
   ]
  },
  {
   "cell_type": "markdown",
   "metadata": {},
   "source": [
    "## Exercise:\n",
    "ok. now let's see a cool example. We will load an image and slice a part of the image and visualize it.\n",
    "\n",
    "We will load an image and try to slice it using the _slice_ method in tensorflow. Complete the code to run the session.\n",
    "Complete the code and \n"
   ]
  },
  {
   "cell_type": "code",
   "execution_count": null,
   "metadata": {
    "collapsed": true
   },
   "outputs": [],
   "source": [
    "# load the image\n",
    "filename = 'flowers.jpg'\n",
    "raw_image_data = mpimg.imread(filename)\n",
    "\n",
    "# create a placeholder for the image\n",
    "image = tf.placeholder(dtype=\"uint8\", shape=[None, None, 3])\n",
    "# slice the image \n",
    "slice = tf.slice(image, begin=[1000, 0, 0], size=[200, 200, -1])\n",
    "\n",
    "# launch the graph in a session\n",
    "result = []\n",
    "with tf.Session() as session:\n",
    "    ######################## YOUR CODE HERE ##########################\n",
    "    # Hint: You should run the session and pass the op that you want # \n",
    "    # and the feed_dict and store the value in \"result\" variable.    #\n",
    "    #                                                                #\n",
    "    pass\n",
    "    #                                                                #\n",
    "    ##################################################################\n",
    "    \n",
    "plt.imshow(raw_image_data)\n",
    "plt.title('Original image')\n",
    "plt.show()\n",
    "\n",
    "plt.imshow(result)\n",
    "plt.title('Cropped image')\n",
    "plt.show()"
   ]
  }
 ],
 "metadata": {
  "kernelspec": {
   "display_name": "Python 3",
   "language": "python",
   "name": "python3"
  },
  "language_info": {
   "codemirror_mode": {
    "name": "ipython",
    "version": 3
   },
   "file_extension": ".py",
   "mimetype": "text/x-python",
   "name": "python",
   "nbconvert_exporter": "python",
   "pygments_lexer": "ipython3",
   "version": "3.5.3"
  }
 },
 "nbformat": 4,
 "nbformat_minor": 1
}
