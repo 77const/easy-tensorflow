{
 "cells": [
  {
   "cell_type": "markdown",
   "metadata": {},
   "source": [
    "## Import"
   ]
  },
  {
   "cell_type": "markdown",
   "metadata": {},
   "source": [
    "To run Tensorflow codes, we have to import the Tensorflow library. If you have not already installed the library, follow our instllation from [here](https://github.com/easy-tensorflow/easy-tensorflow/tree/master/0_installation). "
   ]
  },
  {
   "cell_type": "code",
   "execution_count": null,
   "metadata": {
    "collapsed": true
   },
   "outputs": [],
   "source": [
    "import tensorflow as tf"
   ]
  },
  {
   "cell_type": "markdown",
   "metadata": {},
   "source": [
    "## GRAPH\n",
    "You can represent your dataflow of your computations in a __graph__.\n",
    "\n",
    "<img src=\"files/files/graph.gif\">\n",
    "\n",
    "Each __node__ in your graph is called __op__ (short for operation).\n",
    "\n",
    "An __op__ takes zero or more __Tensors__, performs some computation, and produces zero or more __Tensors__.\n",
    "\n",
    "__Tensor__ is a multi-dimensional array. For example, you can represent a batch of images as a 4-D array of floating point numbers with dimensions [batch, height, width, channels].\n",
    "\n",
    "Let's make a graph to do an aritmatic with tensorflow.\n",
    "We will create two constants and add them...\n",
    "\n",
    "_c = a + b_\n",
    "\n",
    "\n"
   ]
  },
  {
   "cell_type": "code",
   "execution_count": null,
   "metadata": {
    "collapsed": true
   },
   "outputs": [],
   "source": [
    "# create constants\n",
    "a = tf.constant(2)\n",
    "b = tf.constant(3)\n",
    "\n",
    "# add two constants\n",
    "c = tf.add(a,b)\n",
    "print(c)"
   ]
  },
  {
   "cell_type": "markdown",
   "metadata": {},
   "source": [
    "As you see, when we print the variable _c_, it prints out a Tensor with the information of type and shape of the variable. It does not spit out the result. At this level, Tensorflow creates a graph like this:\n",
    "<img src=\"files/files/graph_add.png\">\n",
    "\n",
    "To run this graph, we need a session."
   ]
  },
  {
   "cell_type": "markdown",
   "metadata": {},
   "source": [
    "## Session\n",
    "when we declare constants, variables, etc. they are tensors.\n",
    "that's why they call it tensorflow. The data that we declare flows in a graph.\n",
    "in order to execute the graph we have to run a __session__.\n",
    "To compute anything, a graph must be launched in a __Session__. A __Session__ places the __graph__ ops onto Devices, such as CPUs or GPUs, and provides methods to execute them.\n",
    "\n",
    "\n",
    "\n"
   ]
  },
  {
   "cell_type": "code",
   "execution_count": null,
   "metadata": {
    "collapsed": true
   },
   "outputs": [],
   "source": [
    "# launch the graph in a session\n",
    "with tf.Session() as sess:\n",
    "\tprint(sess.run(c))"
   ]
  }
 ],
 "metadata": {
  "kernelspec": {
   "display_name": "Python 2",
   "language": "python",
   "name": "python2"
  },
  "language_info": {
   "codemirror_mode": {
    "name": "ipython",
    "version": 3
   },
   "file_extension": ".py",
   "mimetype": "text/x-python",
   "name": "python",
   "nbconvert_exporter": "python",
   "pygments_lexer": "ipython3",
   "version": "3.5.3"
  }
 },
 "nbformat": 4,
 "nbformat_minor": 1
}
