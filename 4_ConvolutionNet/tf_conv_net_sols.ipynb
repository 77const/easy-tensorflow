{
 "cells": [
  {
   "cell_type": "markdown",
   "metadata": {},
   "source": [
    "# Convolution Neural Networks\n",
    "In this tutorial we will implement [LeNet](http://yann.lecun.com/exdb/publis/pdf/lecun-98.pdf) on MNIST. LeNet is one of the first successfull convolution networks used of hadwritten digit recognition, developed by Yann LeCun in 1990’s. It has 7 layers (not counting the input layer) with the following description:\n",
    " * Input: Image with shape 28\\*28\\*1\n",
    " \n",
    " * C1: Convolutional layer with 6 feature maps. Each uint in each feature map is connected to a 5\\*5 neighborhood in the input\n",
    " \n",
    " * S2: Subsampling (pooling) layer with 6 feature maps of size 14\\*14. Each node in each feature map is connected to a 2\\*2 neighborhood in the C1\n",
    " \n",
    " * C3: Convolutional layer with 16 feature maps. Each node in each feature map is connected to a 5\\*5 neighborhood in the S2\n",
    " \n",
    " * S4: Subsampling (pooling) layer with 16 feature maps of size 5\\*5. Each node in each feature map is connected to a 2\\*2 neighborhood in the C3\n",
    " \n",
    " * C5: Convolutional layer with 120 feature maps. Each node in each feature map is connected to a 5\\*5 neighborhood in the S4\n",
    " \n",
    " * F6: Fully connected layer with 84 node fully connected to the C5\n",
    " \n",
    " * Output: 10 node for classification of digits (0-9)\n",
    " \n",
    "<img src=\"files/files/lenet.png\">\n",
    "\n"
   ]
  },
  {
   "cell_type": "markdown",
   "metadata": {},
   "source": [
    "## Imports"
   ]
  },
  {
   "cell_type": "code",
   "execution_count": 1,
   "metadata": {
    "collapsed": true
   },
   "outputs": [],
   "source": [
    "%matplotlib inline \n",
    "\n",
    "import tensorflow as tf\n",
    "import matplotlib.pyplot as plt\n",
    "import numpy as np"
   ]
  },
  {
   "cell_type": "markdown",
   "metadata": {},
   "source": [
    "## Load dataset\n",
    "Thankfully, tensorflow made everything easy for us. You can easily load the mnist data from the Tensorflow as follows:"
   ]
  },
  {
   "cell_type": "code",
   "execution_count": 2,
   "metadata": {},
   "outputs": [
    {
     "name": "stdout",
     "output_type": "stream",
     "text": [
      "Extracting MNIST_data/train-images-idx3-ubyte.gz\n",
      "Extracting MNIST_data/train-labels-idx1-ubyte.gz\n",
      "Extracting MNIST_data/t10k-images-idx3-ubyte.gz\n",
      "Extracting MNIST_data/t10k-labels-idx1-ubyte.gz\n"
     ]
    }
   ],
   "source": [
    "# Import MNIST data\n",
    "from tensorflow.examples.tutorials.mnist import input_data\n",
    "mnist = input_data.read_data_sets(\"MNIST_data/\", one_hot=True)"
   ]
  },
  {
   "cell_type": "markdown",
   "metadata": {},
   "source": [
    "## Define hyperparameters\n"
   ]
  },
  {
   "cell_type": "code",
   "execution_count": 3,
   "metadata": {
    "collapsed": true
   },
   "outputs": [],
   "source": [
    "learning_rate = 0.001\n",
    "training_iters = 1000\n",
    "batch_size = 128\n",
    "display_step = 50\n",
    "\n",
    "# Network Parameters\n",
    "n_input = 784  # MNIST data input (img shape: 28*28)\n",
    "n_classes = 10  # MNIST total classes (0-9 digits)\n",
    "dropout_val = 0.75  # Dropout, probability to keep units\n",
    "\n"
   ]
  },
  {
   "cell_type": "markdown",
   "metadata": {},
   "source": [
    "## Create functions to initialize weights and biases variables"
   ]
  },
  {
   "cell_type": "code",
   "execution_count": 4,
   "metadata": {
    "collapsed": true
   },
   "outputs": [],
   "source": [
    "def weight_variable(name, shape):\n",
    "    \"\"\"\n",
    "    Create a weight variable with appropriate initialization\n",
    "    name: weight name\n",
    "    shape: weight shape\n",
    "    \n",
    "    return: initialized weight variable\n",
    "    \"\"\"\n",
    "    initer = tf.truncated_normal_initializer(stddev=0.01)\n",
    "    return tf.get_variable('W_' + name, \n",
    "                           dtype=tf.float32,\n",
    "                           shape=shape, \n",
    "                           initializer=initer)\n",
    "\n",
    "\n",
    "def bias_variable(name, shape):\n",
    "    \"\"\"\n",
    "    Create a bias variable with appropriate initialization\n",
    "    name: bias variable name\n",
    "    shape: bias variable shape\n",
    "    \n",
    "    return: initialized bias variable\n",
    "    \"\"\"\n",
    "    initial = tf.constant(0., shape=shape, dtype=tf.float32)\n",
    "    return tf.get_variable('b_' + name, \n",
    "                           dtype=tf.float32,\n",
    "                           initializer=initial)"
   ]
  },
  {
   "cell_type": "markdown",
   "metadata": {},
   "source": [
    "## Create functions to build different layers"
   ]
  },
  {
   "cell_type": "code",
   "execution_count": 5,
   "metadata": {
    "collapsed": true
   },
   "outputs": [],
   "source": [
    "def conv_layer(x, num_filters, filter_size, stride, name):\n",
    "    \"\"\"\n",
    "    Create a 2D convolution layer\n",
    "    inputs: input array\n",
    "    filter_size: size of the filter\n",
    "    stride: filter stride\n",
    "    num_filters: number of filters (or output feature maps)\n",
    "    name: layer name\n",
    "    return: The output array\n",
    "    \"\"\"\n",
    "    num_in_channel = x.get_shape().as_list()[-1]\n",
    "\n",
    "    shape = [filter_size, filter_size, num_in_channel, num_filters]\n",
    "    W = weight_variable(name, shape=shape)\n",
    "    b = bias_variable(name, [num_filters])\n",
    "\n",
    "    layer = tf.nn.conv2d(x, W,\n",
    "                     strides=[1, stride, stride, 1],\n",
    "                     padding=\"SAME\")\n",
    "    layer += b\n",
    "        \n",
    "    return tf.nn.relu(layer)\n",
    "\n",
    "def max_pool(x, ksize, stride, name):\n",
    "    \"\"\"\n",
    "    Create a max pooling layer\n",
    "    :param x: input to max-pooling layer\n",
    "    :param ksize: size of the max-pooling filter\n",
    "    :param stride: stride of the max-pooling filter\n",
    "    :param name: layer name\n",
    "    :return: The output array\n",
    "    \"\"\"\n",
    "    layer = tf.nn.max_pool(x,\n",
    "                             ksize=[1, ksize, ksize, 1],\n",
    "                             strides=[1, stride, stride, 1],\n",
    "                             padding=\"SAME\",\n",
    "                             name=name)\n",
    "    return layer\n",
    "\n",
    "def fc_layer(x, num_nodes, name, use_relu=True):\n",
    "    \"\"\"\n",
    "    Creates a fully-connected layer\n",
    "    :param x: input from previous layer\n",
    "    :param num_nodes: number of hidden units in the fully-connected layer\n",
    "    :param name: layer name\n",
    "    :param use_relu: boolean to add ReLU non-linearity (or not)\n",
    "    \n",
    "    :return: The output array\n",
    "    \"\"\"\n",
    "    in_dim = x.get_shape()[1]\n",
    "    W = weight_variable(name, shape=[in_dim, num_nodes])\n",
    "    b = bias_variable(name, [num_nodes])\n",
    "    layer = tf.matmul(x, W)\n",
    "    layer += b\n",
    "    if use_relu:\n",
    "        layer = tf.nn.relu(layer)\n",
    "    \n",
    "    return layer\n",
    "\n",
    "def flatten_layer(layer):\n",
    "    \"\"\"\n",
    "    Flattens the output of the convolutional layer to be fed into fully-connected layer\n",
    "    :param layer: input array\n",
    "    :return: flattened array\n",
    "    \"\"\"\n",
    "    layer_shape = layer.get_shape()\n",
    "    num_features = layer_shape[1:].num_elements()\n",
    "    layer_flat = tf.reshape(layer, [-1, num_features])\n",
    "    return layer_flat\n",
    "\n",
    "def dropout(x, keep_prob):\n",
    "    \"\"\"\n",
    "    Create a dropout layer\n",
    "    :param x: input to dropout layer\n",
    "    :param keep_prob: dropout rate (e.g.: 0.5 means keeping 50% of the units)\n",
    "    :return: the output array\n",
    "    \"\"\"\n",
    "    return tf.nn.dropout(x, keep_prob)"
   ]
  },
  {
   "cell_type": "markdown",
   "metadata": {},
   "source": [
    "## Create the graph"
   ]
  },
  {
   "cell_type": "code",
   "execution_count": 6,
   "metadata": {
    "collapsed": true
   },
   "outputs": [],
   "source": [
    "# Placeholders for inputs (x), outputs(y) and dropout(keep_prob)\n",
    "x = tf.placeholder(tf.float32, [None, n_input])\n",
    "y = tf.placeholder(tf.float32, [None, n_classes])\n",
    "keep_prob = tf.placeholder(tf.float32)\n",
    "\n",
    "\n",
    "def LeNet(x, n_classes, keep_prob):\n",
    "    \"\"\"\n",
    "    Create LeNet Model\n",
    "    :param x: input to the netwoks\n",
    "    :param n_classes: number of output units (classes)\n",
    "    :param keep_prob: dropout rate (e.g.: 0.5 means keeping 50% of the units)\n",
    "    :return: the output array\n",
    "    \"\"\"\n",
    "    x = tf.reshape(x, shape=[-1, 28, 28, 1])\n",
    "    C1 = conv_layer(x, 6, 5, 1, 'C1')\n",
    "    S2 = max_pool(C1, 2, 2, 'S2')\n",
    "    C3 = conv_layer(S2, 16, 5, 1,  'C3')\n",
    "    S4 = max_pool(C3, 2, 2, 'S4')\n",
    "    C5 = conv_layer(S4, 120, 5, 1, 'C5')\n",
    "    C5 = flatten_layer(C5)\n",
    "    F6 = fc_layer(C5, 84, 'F6', use_relu=True)\n",
    "    F6 = dropout(F6, keep_prob)\n",
    "    out = fc_layer(F6, n_classes, 'FC2', use_relu=False)\n",
    "    return out\n",
    "\n",
    "# Build our model\n",
    "output_scores = LeNet(x, n_classes, keep_prob)\n",
    "\n",
    "# Define loss, optimizer, accuracy for training\n",
    "loss = tf.reduce_mean(tf.nn.softmax_cross_entropy_with_logits(labels=y, logits=output_scores))\n",
    "optimizer = tf.train.AdamOptimizer(learning_rate=learning_rate).minimize(loss)\n",
    "correct_prediction = tf.equal(tf.argmax(output_scores, 1), tf.argmax(y, 1))\n",
    "accuracy =  tf.reduce_mean(tf.cast(correct_prediction, tf.float32))\n",
    "\n",
    "# predict classes for testing and evluation\n",
    "predicted_classes = tf.argmax(output_scores, axis=1)\n",
    "\n",
    "# predicted_prob = tf.nn.softmax(output_scores)\n",
    "\n",
    "\n",
    "# Initializing the variables\n",
    "init = tf.global_variables_initializer()"
   ]
  },
  {
   "cell_type": "markdown",
   "metadata": {},
   "source": [
    "## Run the graph in session"
   ]
  },
  {
   "cell_type": "code",
   "execution_count": 7,
   "metadata": {},
   "outputs": [
    {
     "name": "stdout",
     "output_type": "stream",
     "text": [
      "Iter 0, Loss= 2.30, Training Accuracy= 0.18\n",
      "Iter 50, Loss= 0.72, Training Accuracy= 0.78\n",
      "Iter 100, Loss= 0.47, Training Accuracy= 0.86\n",
      "Iter 150, Loss= 0.38, Training Accuracy= 0.88\n",
      "Iter 200, Loss= 0.21, Training Accuracy= 0.94\n",
      "Iter 250, Loss= 0.23, Training Accuracy= 0.93\n",
      "Iter 300, Loss= 0.17, Training Accuracy= 0.95\n",
      "Iter 350, Loss= 0.08, Training Accuracy= 0.97\n",
      "Iter 400, Loss= 0.21, Training Accuracy= 0.96\n",
      "Iter 450, Loss= 0.13, Training Accuracy= 0.97\n",
      "Iter 500, Loss= 0.06, Training Accuracy= 0.98\n",
      "Iter 550, Loss= 0.08, Training Accuracy= 0.97\n",
      "Iter 600, Loss= 0.20, Training Accuracy= 0.92\n",
      "Iter 650, Loss= 0.09, Training Accuracy= 0.98\n",
      "Iter 700, Loss= 0.08, Training Accuracy= 0.98\n",
      "Iter 750, Loss= 0.09, Training Accuracy= 0.95\n",
      "Iter 800, Loss= 0.11, Training Accuracy= 0.98\n",
      "Iter 850, Loss= 0.13, Training Accuracy= 0.97\n",
      "Iter 900, Loss= 0.11, Training Accuracy= 0.96\n",
      "Iter 950, Loss= 0.06, Training Accuracy= 0.99\n",
      "Testing Accuracy: 0.988281\n"
     ]
    },
    {
     "data": {
      "image/png": "[encoded data removed]",
      "text/plain": [
       "<matplotlib.figure.Figure at 0x1289f0b38>"
      ]
     },
     "metadata": {},
     "output_type": "display_data"
    },
    {
     "data": {
      "image/png": "[encoded data removed]",
      "text/plain": [
       "<matplotlib.figure.Figure at 0x112949be0>"
      ]
     },
     "metadata": {},
     "output_type": "display_data"
    },
    {
     "name": "stdout",
     "output_type": "stream",
     "text": [
      "Model prediction: 7\n"
     ]
    },
    {
     "data": {
      "image/png": "[encoded data removed]",
      "text/plain": [
       "<matplotlib.figure.Figure at 0x112953400>"
      ]
     },
     "metadata": {},
     "output_type": "display_data"
    },
    {
     "name": "stdout",
     "output_type": "stream",
     "text": [
      "Model prediction: 2\n"
     ]
    },
    {
     "data": {
      "image/png": "[encoded data removed]",
      "text/plain": [
       "<matplotlib.figure.Figure at 0x122925eb8>"
      ]
     },
     "metadata": {},
     "output_type": "display_data"
    },
    {
     "name": "stdout",
     "output_type": "stream",
     "text": [
      "Model prediction: 1\n"
     ]
    },
    {
     "data": {
      "image/png": "[encoded data removed]",
      "text/plain": [
       "<matplotlib.figure.Figure at 0x112973f28>"
      ]
     },
     "metadata": {},
     "output_type": "display_data"
    },
    {
     "name": "stdout",
     "output_type": "stream",
     "text": [
      "Model prediction: 0\n"
     ]
    }
   ],
   "source": [
    "# make a figure to show the loss\n",
    "def makeFig(ax, xlist, ylist):\n",
    "    ax.scatter(xlist, ylist)\n",
    "    \n",
    "# creating the figure and adjusting its settings\n",
    "fig, axs = plt.subplots(nrows=1, ncols=2, sharex=True)\n",
    "plt.ion()  # enable interactivity\n",
    "fig.set_size_inches(10, 5)\n",
    "ax0 = axs[0]\n",
    "ax0.set_ylabel('Training Loss')\n",
    "ax0.set_xlabel('step')\n",
    "ax1 = axs[1]\n",
    "ax1.set_ylim([0, 1])\n",
    "ax1.set_ylabel('Training Accuracy')\n",
    "ax1.set_xlabel('step')\n",
    "\n",
    "xList = list()\n",
    "lossList = list()\n",
    "accList = list()\n",
    "\n",
    "\n",
    "# Launch the graph\n",
    "with tf.Session() as sess:\n",
    "    sess.run(init)\n",
    "    # Keep training until reach max iterations\n",
    "    for step in range(training_iters):\n",
    "        batch_x, batch_y = mnist.train.next_batch(batch_size)\n",
    "        \n",
    "        # Run optimization op (backprop)\n",
    "        _, loss_batch, acc = sess.run([optimizer, loss, accuracy],\n",
    "                                feed_dict={x: batch_x, y: batch_y, keep_prob: dropout_val})\n",
    "        if step % display_step == 0:\n",
    "            # Calculate batch loss and accuracy\n",
    "            loss_batch, acc_batch = sess.run([loss, accuracy], feed_dict={x: batch_x,\n",
    "                                                              y: batch_y,\n",
    "                                                              keep_prob: 1.})\n",
    "            print(\"Iter \" + str(step) + \n",
    "                  \", Loss= \" + \"{:.2f}\".format(loss_batch) + \n",
    "                  \", Training Accuracy= \" + \"{:.2f}\".format(acc_batch))\n",
    "            \n",
    "            xList.append(step)\n",
    "            lossList.append(loss_batch)\n",
    "            accList.append(acc_batch)\n",
    "            # Plot loss\n",
    "            makeFig(ax0, xList, lossList)\n",
    "            # plt.draw()\n",
    "            plt.pause(0.001)\n",
    "            # Plot accuracy\n",
    "            makeFig(ax1, xList, accList)\n",
    "            plt.draw()\n",
    "\n",
    "    \n",
    "\n",
    "    # test the network\n",
    "    # Calculate accuracy\n",
    "    print(\"Testing Accuracy:\",\n",
    "          sess.run(accuracy, feed_dict={x: mnist.test.images[:256],\n",
    "                                        y: mnist.test.labels[:256],\n",
    "                                        keep_prob: 1.}))\n",
    "    # Predict single images\n",
    "    n_images = 4\n",
    "    test_images = mnist.test.images[:n_images]\n",
    "    preds = sess.run(predicted_classes, feed_dict={x: test_images,\n",
    "                                            keep_prob: 1.})\n",
    "    # Display\n",
    "    for i in range(n_images):\n",
    "        plt.figure()\n",
    "        plt.imshow(np.reshape(test_images[i], [28, 28]), cmap='gray')\n",
    "        plt.show()\n",
    "        print(\"Model prediction:\", preds[i])\n"
   ]
  }
 ],
 "metadata": {
  "kernelspec": {
   "display_name": "Python 3",
   "language": "python",
   "name": "python3"
  },
  "language_info": {
   "codemirror_mode": {
    "name": "ipython",
    "version": 3
   },
   "file_extension": ".py",
   "mimetype": "text/x-python",
   "name": "python",
   "nbconvert_exporter": "python",
   "pygments_lexer": "ipython3",
   "version": "3.5.4"
  }
 },
 "nbformat": 4,
 "nbformat_minor": 2
}
